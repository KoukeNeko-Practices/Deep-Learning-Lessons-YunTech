{
 "cells": [
  {
   "cell_type": "code",
   "execution_count": 1,
   "metadata": {},
   "outputs": [],
   "source": [
    "import tensorflow as tf"
   ]
  },
  {
   "cell_type": "code",
   "execution_count": null,
   "metadata": {},
   "outputs": [],
   "source": [
    "# 使用三個函數分別來產生三個類別的資料：\n",
    "# 指數函數𝑓0𝑥,𝜖≡𝑓0′𝑥+𝜖、\n",
    "# 正弦函數𝑓1𝑥,𝜖=𝑓1′𝑥+𝜖，以及\n",
    "# 平方函數𝑓2𝑥,𝜖=𝑓2′𝑥+𝜖，\n",
    "# 它們所生成之樣本的標籤分別標註為0、1與2。\n",
    "# 假設變數𝑥的定義域為𝑥∈−5,5。\n",
    "\n",
    "f0 = lambda x: tf.math.exp(x)\n",
    "f1 = lambda x: tf.math.sin(x)\n",
    "f2 = lambda x: tf.math.square(x)\n",
    "\n"
   ]
  }
 ],
 "metadata": {
  "kernelspec": {
   "display_name": "Py310",
   "language": "python",
   "name": "python3"
  },
  "language_info": {
   "codemirror_mode": {
    "name": "ipython",
    "version": 3
   },
   "file_extension": ".py",
   "mimetype": "text/x-python",
   "name": "python",
   "nbconvert_exporter": "python",
   "pygments_lexer": "ipython3",
   "version": "3.10.4"
  },
  "orig_nbformat": 4,
  "vscode": {
   "interpreter": {
    "hash": "812ec67cceb644c974106acc983825325b2e01f610f8f247b8e5dda6647125b0"
   }
  }
 },
 "nbformat": 4,
 "nbformat_minor": 2
}
