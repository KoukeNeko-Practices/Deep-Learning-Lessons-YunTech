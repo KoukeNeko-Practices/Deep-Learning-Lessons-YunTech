{
 "cells": [
  {
   "cell_type": "code",
   "execution_count": 2,
   "metadata": {},
   "outputs": [],
   "source": [
    "import tensorflow as tf"
   ]
  },
  {
   "cell_type": "code",
   "execution_count": 11,
   "metadata": {},
   "outputs": [
    {
     "name": "stdout",
     "output_type": "stream",
     "text": [
      "z =  tf.Tensor([0.37758255], shape=(1,), dtype=float32)\n",
      "L =  tf.Tensor([0.38740346], shape=(1,), dtype=float32)\n",
      "dL/dw =  tf.Tensor(-2.1848905, shape=(), dtype=float32)\n",
      "dL/dx =  tf.Tensor([0.5968056], shape=(1,), dtype=float32)\n"
     ]
    }
   ],
   "source": [
    "# 定義𝑧=𝑤2cos(𝑥)+𝑏，𝐿=𝑧−𝑦2，其中，𝑤與𝑏是Tensor變數(tf.Variable)，𝑥與𝑦是Tensor常數。\n",
    "# 假設𝑤=1,𝑏=−0.5,𝑥=0.5,𝑦=1。\n",
    "# 請使用tf.GradientTape建立一個梯度物件來求得變數𝑤與常數𝑥的梯度值：Τ𝜕𝐿𝜕𝑤,Τ𝜕𝐿𝜕𝑥\n",
    "# 提示：tf.GradientTape計算常數𝑥的梯度，需要使用梯度物件的.watch函數對它進行額外的處理。\n",
    "# 要使用一個梯度物件來要求得一個以上的梯度值，需要在建立梯度物件設定persistent屬性。\n",
    "\n",
    "w = tf.Variable(1.0); b = tf.Variable(-0.5);\n",
    "x = tf.convert_to_tensor([0.5]); y = tf.convert_to_tensor([1.0])\n",
    "\n",
    "with tf.GradientTape(persistent=True) as tape:\n",
    "    tape.watch(x)\n",
    "    z = tf.add(tf.multiply(tf.pow(w, 2), tf.cos(x)) ,b) \n",
    "    L =tf.pow(z - y, 2)\n",
    "    print(\"z = \", z)\n",
    "    print(\"L = \", L)\n",
    "print(\"dL/dw = \", tape.gradient(L, w))\n",
    "print(\"dL/dx = \", tape.gradient(L, x))\n",
    "    "
   ]
  },
  {
   "cell_type": "code",
   "execution_count": null,
   "metadata": {},
   "outputs": [],
   "source": []
  }
 ],
 "metadata": {
  "kernelspec": {
   "display_name": "Py310",
   "language": "python",
   "name": "python3"
  },
  "language_info": {
   "codemirror_mode": {
    "name": "ipython",
    "version": 3
   },
   "file_extension": ".py",
   "mimetype": "text/x-python",
   "name": "python",
   "nbconvert_exporter": "python",
   "pygments_lexer": "ipython3",
   "version": "3.10.4"
  },
  "orig_nbformat": 4,
  "vscode": {
   "interpreter": {
    "hash": "812ec67cceb644c974106acc983825325b2e01f610f8f247b8e5dda6647125b0"
   }
  }
 },
 "nbformat": 4,
 "nbformat_minor": 2
}
